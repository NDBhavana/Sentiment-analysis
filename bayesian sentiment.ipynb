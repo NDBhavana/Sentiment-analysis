{
 "cells": [
  {
   "cell_type": "code",
   "execution_count": 1,
   "metadata": {},
   "outputs": [],
   "source": [
    "import numpy as np\n",
    "import matplotlib.pyplot as plt\n",
    "import pandas as pd"
   ]
  },
  {
   "cell_type": "code",
   "execution_count": 2,
   "metadata": {},
   "outputs": [],
   "source": [
    "dataset1=pd.read_csv(r'C:\\Users\\Yamini\\Downloads\\archive (11)\\Test.csv')\n",
    "dataset2=pd.read_csv(r'C:\\Users\\Yamini\\Downloads\\archive (11)\\Train.csv')\n",
    "x_train=dataset2['text'].values\n",
    "y_train=dataset2['label'].values\n",
    "x_test=dataset1['text'].values\n",
    "y_test=dataset1['label'].values"
   ]
  },
  {
   "cell_type": "code",
   "execution_count": null,
   "metadata": {},
   "outputs": [
    {
     "name": "stdout",
     "output_type": "stream",
     "text": [
      "Accuracy: 86.34\n"
     ]
    }
   ],
   "source": [
    "from sklearn.feature_extraction.text import CountVectorizer\n",
    "from nltk.tokenize import RegexpTokenizer\n",
    "token=RegexpTokenizer(r'[a-zA-Z0-9]+')\n",
    "cv=CountVectorizer(stop_words='english',ngram_range=(1,1),tokenizer=token.tokenize)\n",
    "x_tr=cv.fit_transform(x_train)\n",
    "x_te=cv.transform(x_test)\n",
    "from sklearn.naive_bayes import MultinomialNB\n",
    "MNB=MultinomialNB()\n",
    "MNB.fit(x_tr,y_train)\n",
    "from sklearn import metrics\n",
    "predicted=MNB.predict(x_te)\n",
    "accuracy_score=metrics.accuracy_score(predicted,y_test)\n",
    "print(str('Accuracy: {:04.2f}'.format(accuracy_score*100)))\n",
    "def testword(w):\n",
    "    a=cv.transform([w])\n",
    "    \n",
    "    s=MNB.predict(a)\n",
    "    if(s[0]==np.int64(0)):\n",
    "        print('Negative')\n",
    "    else:\n",
    "        print(\"Positive\")\n",
    "l=input(\"Enter phrase:\")\n",
    "testword(l)"
   ]
  },
  {
   "cell_type": "code",
   "execution_count": null,
   "metadata": {},
   "outputs": [],
   "source": []
  }
 ],
 "metadata": {
  "kernelspec": {
   "display_name": "Python 3",
   "language": "python",
   "name": "python3"
  },
  "language_info": {
   "codemirror_mode": {
    "name": "ipython",
    "version": 3
   },
   "file_extension": ".py",
   "mimetype": "text/x-python",
   "name": "python",
   "nbconvert_exporter": "python",
   "pygments_lexer": "ipython3",
   "version": "3.7.4"
  }
 },
 "nbformat": 4,
 "nbformat_minor": 4
}
